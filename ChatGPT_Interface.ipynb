{
  "nbformat": 4,
  "nbformat_minor": 0,
  "metadata": {
    "colab": {
      "provenance": [],
      "authorship_tag": "ABX9TyOkCpXvvw1OUZjdz5lqJUTb",
      "include_colab_link": true
    },
    "kernelspec": {
      "name": "python3",
      "display_name": "Python 3"
    },
    "language_info": {
      "name": "python"
    }
  },
  "cells": [
    {
      "cell_type": "markdown",
      "metadata": {
        "id": "view-in-github",
        "colab_type": "text"
      },
      "source": [
        "<a href=\"https://colab.research.google.com/github/manisshapande/llm_engineering/blob/main/ChatGPT_Interface.ipynb\" target=\"_parent\"><img src=\"https://colab.research.google.com/assets/colab-badge.svg\" alt=\"Open In Colab\"/></a>"
      ]
    },
    {
      "cell_type": "markdown",
      "source": [
        "## ChatGPT Interface ##"
      ],
      "metadata": {
        "id": "T1K6TqB-zWpm"
      }
    },
    {
      "cell_type": "code",
      "source": [
        "\n",
        "#Imports\n",
        "\n",
        "import os\n",
        "from dotenv import load_dotenv\n",
        "import ipywidgets as widgets\n",
        "from IPython.display import Markdown, display, update_display, clear_output\n",
        "from openai import OpenAI"
      ],
      "metadata": {
        "id": "m7qX_sQRUfqw"
      },
      "execution_count": null,
      "outputs": []
    },
    {
      "cell_type": "code",
      "source": [
        "# Loading, Setting model and open api key\n",
        "load_dotenv()\n",
        "api_key = os.getenv('OPEN_API_KEY')\n",
        "\n",
        "if api_key and api_key.startswith('sk-proj-') and len(api_key)>10:\n",
        "  print(\"We are goos with API Key for further proceeding\")\n",
        "else:\n",
        "  print(\"There is a problem with your api key. Please check or contact your admin\")\n",
        "\n",
        "MODEL = \"gpt-4o-mini\""
      ],
      "metadata": {
        "id": "ZK6MjIUXVZ-I"
      },
      "execution_count": null,
      "outputs": []
    },
    {
      "cell_type": "code",
      "source": [
        "#Create chatgpt interface\n",
        "\n",
        "class ChatInterface:\n",
        "    def __init__(self, api_key, model, system_message=\"You are a helpful assistant. You can format your responses using Markdown.\"):\n",
        "        self.openai = OpenAI(api_key=api_key)\n",
        "        self.api_key = api_key\n",
        "        self.model = model\n",
        "        #self.system_message = system_message\n",
        "        self.conversation_history = [{\"role\": \"system\", \"content\": system_message}]\n",
        "\n",
        "        # Initialize widgets\n",
        "        self.chat_area = widgets.Output()\n",
        "        self.input_box = widgets.Text(placeholder=\"Enter your message here...\", layout=widgets.Layout(flex=\"1\"))\n",
        "        self.send_button = widgets.Button(description=\"Send\", button_style=\"primary\")\n",
        "\n",
        "        # Attach event handler\n",
        "        self.send_button.on_click(self._handle_send_click)\n",
        "\n",
        "        # Layout widgets\n",
        "        self.layout = self._build_layout()\n",
        "\n",
        "    def display(self):\n",
        "        \"\"\"Display the entire interface.\"\"\"\n",
        "        display(self.layout)\n",
        "\n",
        "    def _build_layout(self):\n",
        "        \"\"\"Construct and return the layout of the interface.\"\"\"\n",
        "        input_area = widgets.HBox([self.input_box, self.send_button])\n",
        "        input_area.layout.align_items = \"center\"\n",
        "        return widgets.VBox([self.chat_area, input_area])\n",
        "\n",
        "    def _handle_send_click(self, _):\n",
        "        \"\"\"Handle the click event for the send button.\"\"\"\n",
        "        user_message = self.input_box.value.strip()\n",
        "        if user_message:\n",
        "            self.display_message(\"You\", user_message)\n",
        "            self.conversation_history.append({\"role\": \"user\", \"content\": user_message})\n",
        "            self.input_box.value = \"\"\n",
        "\n",
        "            try:\n",
        "                response = self.openai.chat.completions.create(\n",
        "                    model=self.model,\n",
        "                    messages=self.conversation_history\n",
        "                )\n",
        "                assistant_message = response.choices[0].message.content.strip()\n",
        "                self.conversation_history.append({\"role\": \"assistant\", \"content\": assistant_message})\n",
        "                self.display_message(\"ChatGPT\", assistant_message)\n",
        "            except Exception as e:\n",
        "                self.display_message(\"Error\", f\"An error occurred: {str(e)}\")\n",
        "\n",
        "    def display_message(self, sender, message):\n",
        "        \"\"\"Add a message to the chat area.\"\"\"\n",
        "        self.chat_area.append_display_data(Markdown(f\"**{sender}:**\\n{message}\"))\n"
      ],
      "metadata": {
        "id": "Qcunq14GV7Bo"
      },
      "execution_count": null,
      "outputs": []
    },
    {
      "cell_type": "code",
      "source": [
        "chat_interface = ChatInterface(api_key,MODEL)\n",
        "chat_interface.display()"
      ],
      "metadata": {
        "id": "HPZzl3r3qCLP"
      },
      "execution_count": null,
      "outputs": []
    }
  ]
}